{
  "cells": [
    {
      "cell_type": "markdown",
      "metadata": {
        "id": "80Mw3s6dhmuU"
      },
      "source": [
        "# Run rsQUBICVANITY in Google Colab\n",
        "\n",
        "This notebook will clone, build, and run the rsQUBICVANITY project from GitHub.\n",
        "\n",
        "Repository: https://github.com/genren00/rsQUBICVANITY"
      ]
    },
    {
      "cell_type": "markdown",
      "metadata": {
        "id": "WZbRPK_khmvI"
      },
      "source": [
        "## 1. Install Rust"
      ]
    },
    {
      "cell_type": "code",
      "execution_count": null,
      "metadata": {
        "id": "e8epmcF-hmvN"
      },
      "outputs": [],
      "source": [
        "!curl --proto '=https' --tlsv1.2 -sSf https://sh.rustup.rs | sh -s -- -y\n",
        "import os\n",
        "os.environ['PATH'] += \":/root/.cargo/bin\"\n",
        "!rustc --version\n",
        "!cargo --version"
      ]
    },
    {
      "cell_type": "markdown",
      "metadata": {
        "id": "n9HbLY9dhmva"
      },
      "source": [
        "## 2. Clone and Build the Project"
      ]
    },
    {
      "cell_type": "code",
      "execution_count": null,
      "metadata": {
        "id": "fHH_LBxVhmvf"
      },
      "outputs": [],
      "source": [
        "!git clone https://github.com/genren00/rsQUBICVANITY.git\n",
        "%cd rsQUBICVANITY\n",
        "!cargo build --release"
      ]
    },
    {
      "cell_type": "markdown",
      "metadata": {
        "id": "gVu3fJ8whmvk"
      },
      "source": [
        "## 3. Download Qubic Helper Binary"
      ]
    },
    {
      "cell_type": "code",
      "execution_count": null,
      "metadata": {
        "id": "2DoJjlzHhmvp"
      },
      "outputs": [],
      "source": [
        "!wget -O qubic-helper-linux https://github.com/Qubic-Hub/qubic-helper-utils/releases/download/3.0.5/qubic-helper-linux-x64-3_0_5\n",
        "!chmod +x qubic-helper-linux\n",
        "!ls -la"
      ]
    },
    {
      "cell_type": "markdown",
      "metadata": {
        "id": "HhL1RUlXhmvu"
      },
      "source": [
        "## 4. Test the Installation"
      ]
    },
    {
      "cell_type": "code",
      "execution_count": null,
      "metadata": {
        "id": "ljCZ96J9hmv0"
      },
      "outputs": [],
      "source": [
        "!./target/release/rsqubic_vanity --help"
      ]
    },
    {
      "cell_type": "markdown",
      "metadata": {
        "id": "p6tR9Xr3hmv_"
      },
      "source": [
        "## 5. Run Examples\n",
        "\n",
        "### Example 1: Simple pattern (fast)"
      ]
    },
    {
      "cell_type": "markdown",
      "metadata": {
        "id": "LT5sbt0NhmwY"
      },
      "source": [
        "## 6. Your Turn - Try Your Own Pattern\n",
        "\n",
        "Replace \"YOURPATTERN\" below with your desired vanity pattern:"
      ]
    },
    {
      "cell_type": "code",
      "execution_count": null,
      "metadata": {
        "id": "Kq4ZrFijhmwb"
      },
      "outputs": [],
      "source": [
        "# Edit this line with your pattern\n",
        "YOUR_PATTERN = \"CRYPTO*\"\n",
        "MAX_ATTEMPTS = 200000\n",
        "THREADS = 4\n",
        "\n",
        "print(f\"Generating vanity address with pattern: {YOUR_PATTERN}\")\n",
        "print(f\"Max attempts: {MAX_ATTEMPTS}\")\n",
        "print(f\"Threads: {THREADS}\")\n",
        "print(\"-\" * 50)\n",
        "\n",
        "!./target/release/rsqubic_vanity --pattern \"{YOUR_PATTERN}\" --max-attempts {MAX_ATTEMPTS} --threads {THREADS}"
      ]
    }
  ],
  "metadata": {
    "kernelspec": {
      "display_name": "Python 3",
      "language": "python",
      "name": "python3"
    },
    "language_info": {
      "codemirror_mode": {
        "name": "ipython",
        "version": 3
      },
      "file_extension": ".py",
      "mimetype": "text/x-python",
      "name": "python",
      "nbconvert_exporter": "python",
      "pygments_lexer": "ipython3",
      "version": "3.8.5"
    },
    "colab": {
      "provenance": []
    }
  },
  "nbformat": 4,
  "nbformat_minor": 0
}